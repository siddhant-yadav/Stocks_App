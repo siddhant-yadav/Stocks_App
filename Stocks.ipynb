{
 "metadata": {
  "language_info": {
   "codemirror_mode": {
    "name": "ipython",
    "version": 3
   },
   "file_extension": ".py",
   "mimetype": "text/x-python",
   "name": "python",
   "nbconvert_exporter": "python",
   "pygments_lexer": "ipython3",
   "version": "3.7.6-final"
  },
  "orig_nbformat": 2,
  "kernelspec": {
   "name": "python3",
   "display_name": "Python 3",
   "language": "python"
  }
 },
 "nbformat": 4,
 "nbformat_minor": 2,
 "cells": [
  {
   "cell_type": "code",
   "execution_count": 1,
   "metadata": {},
   "outputs": [],
   "source": [
    "import yfinance as yf\n",
    "import streamlit as st\n",
    "import pandas as pd \n",
    "import numpy as np \n",
    "from datetime import datetime"
   ]
  },
  {
   "cell_type": "code",
   "execution_count": 4,
   "metadata": {},
   "outputs": [],
   "source": [
    "ticker_data = yf.Ticker('AAPL')"
   ]
  },
  {
   "cell_type": "code",
   "execution_count": 5,
   "metadata": {},
   "outputs": [
    {
     "output_type": "stream",
     "name": "stderr",
     "text": [
      "2021-01-15 18:54:39.398 INFO    numexpr.utils: NumExpr defaulting to 8 threads.\n"
     ]
    },
    {
     "output_type": "execute_result",
     "data": {
      "text/plain": [
       "{'zip': '95014',\n",
       " 'sector': 'Technology',\n",
       " 'fullTimeEmployees': 147000,\n",
       " 'longBusinessSummary': 'Apple Inc. designs, manufactures, and markets smartphones, personal computers, tablets, wearables, and accessories worldwide. It also sells various related services. The company offers iPhone, a line of smartphones; Mac, a line of personal computers; iPad, a line of multi-purpose tablets; and wearables, home, and accessories comprising AirPods, Apple TV, Apple Watch, Beats products, HomePod, iPod touch, and other Apple-branded and third-party accessories. It also provides AppleCare support services; cloud services store services; and operates various platforms, including the App Store, that allow customers to discover and download applications and digital content, such as books, music, video, games, and podcasts. In addition, the company offers various services, such as Apple Arcade, a game subscription service; Apple Music, which offers users a curated listening experience with on-demand radio stations; Apple News+, a subscription news and magazine service; Apple TV+, which offers exclusive original content; Apple Card, a co-branded credit card; and Apple Pay, a cashless payment service, as well as licenses its intellectual property. The company serves consumers, and small and mid-sized businesses; and the education, enterprise, and government markets. It sells and delivers third-party applications for its products through the App Store. The company also sells its products through its retail and online stores, and direct sales force; and third-party cellular network carriers, wholesalers, retailers, and resellers. Apple Inc. was founded in 1977 and is headquartered in Cupertino, California.',\n",
       " 'city': 'Cupertino',\n",
       " 'phone': '408-996-1010',\n",
       " 'state': 'CA',\n",
       " 'country': 'United States',\n",
       " 'companyOfficers': [],\n",
       " 'website': 'http://www.apple.com',\n",
       " 'maxAge': 1,\n",
       " 'address1': 'One Apple Park Way',\n",
       " 'industry': 'Consumer Electronics',\n",
       " 'previousClose': 130.89,\n",
       " 'regularMarketOpen': 130.8,\n",
       " 'twoHundredDayAverage': 115.32804,\n",
       " 'trailingAnnualDividendYield': 0.0060738027,\n",
       " 'payoutRatio': 0.24239999,\n",
       " 'volume24Hr': None,\n",
       " 'regularMarketDayHigh': 131,\n",
       " 'navPrice': None,\n",
       " 'averageDailyVolume10Day': 104834750,\n",
       " 'totalAssets': None,\n",
       " 'regularMarketPreviousClose': 130.89,\n",
       " 'fiftyDayAverage': 127.38182,\n",
       " 'trailingAnnualDividendRate': 0.795,\n",
       " 'open': 130.8,\n",
       " 'toCurrency': None,\n",
       " 'averageVolume10days': 104834750,\n",
       " 'expireDate': None,\n",
       " 'yield': None,\n",
       " 'algorithm': None,\n",
       " 'dividendRate': 0.8200000000000001,\n",
       " 'exDividendDate': 1604620800,\n",
       " 'beta': 1.283613,\n",
       " 'circulatingSupply': None,\n",
       " 'startDate': None,\n",
       " 'regularMarketDayLow': 128.78,\n",
       " 'priceHint': 2,\n",
       " 'currency': 'USD',\n",
       " 'trailingPE': 39.30183,\n",
       " 'regularMarketVolume': 90221755,\n",
       " 'lastMarket': None,\n",
       " 'maxSupply': None,\n",
       " 'openInterest': None,\n",
       " 'marketCap': 2168691621888,\n",
       " 'volumeAllCurrencies': None,\n",
       " 'strikePrice': None,\n",
       " 'averageVolume': 108886944,\n",
       " 'priceToSalesTrailing12Months': 7.900084,\n",
       " 'dayLow': 128.78,\n",
       " 'ask': 129.02,\n",
       " 'ytdReturn': None,\n",
       " 'askSize': 1100,\n",
       " 'volume': 90221755,\n",
       " 'fiftyTwoWeekHigh': 138.79,\n",
       " 'forwardPE': 29.566513,\n",
       " 'fromCurrency': None,\n",
       " 'fiveYearAvgDividendYield': 1.46,\n",
       " 'fiftyTwoWeekLow': 53.1525,\n",
       " 'bid': 128.72,\n",
       " 'tradeable': False,\n",
       " 'dividendYield': 0.0064,\n",
       " 'bidSize': 800,\n",
       " 'dayHigh': 131,\n",
       " 'exchange': 'NMS',\n",
       " 'shortName': 'Apple Inc.',\n",
       " 'longName': 'Apple Inc.',\n",
       " 'exchangeTimezoneName': 'America/New_York',\n",
       " 'exchangeTimezoneShortName': 'EST',\n",
       " 'isEsgPopulated': False,\n",
       " 'gmtOffSetMilliseconds': '-18000000',\n",
       " 'quoteType': 'EQUITY',\n",
       " 'symbol': 'AAPL',\n",
       " 'messageBoardId': 'finmb_24937',\n",
       " 'market': 'us_market',\n",
       " 'annualHoldingsTurnover': None,\n",
       " 'enterpriseToRevenue': 8.098,\n",
       " 'beta3Year': None,\n",
       " 'profitMargins': 0.20914000000000002,\n",
       " 'enterpriseToEbitda': 28.742,\n",
       " '52WeekChange': 0.6177956,\n",
       " 'morningStarRiskRating': None,\n",
       " 'forwardEps': 4.36,\n",
       " 'revenueQuarterlyGrowth': None,\n",
       " 'sharesOutstanding': 16823300096,\n",
       " 'fundInceptionDate': None,\n",
       " 'annualReportExpenseRatio': None,\n",
       " 'bookValue': 3.849,\n",
       " 'sharesShort': 91091816,\n",
       " 'sharesPercentSharesOut': 0.0054,\n",
       " 'fundFamily': None,\n",
       " 'lastFiscalYearEnd': 1601078400,\n",
       " 'heldPercentInstitutions': 0.5966199600000001,\n",
       " 'netIncomeToCommon': 57410998272,\n",
       " 'trailingEps': 3.2800000000000002,\n",
       " 'lastDividendValue': 0.20500000000000002,\n",
       " 'SandP52WeekChange': 0.1399318,\n",
       " 'priceToBook': 33.491817,\n",
       " 'heldPercentInsiders': 0.0006500000000000001,\n",
       " 'nextFiscalYearEnd': 1664150400,\n",
       " 'mostRecentQuarter': 1601078400,\n",
       " 'shortRatio': 0.84,\n",
       " 'sharesShortPreviousMonthDate': 1606694400,\n",
       " 'floatShares': 16984460162,\n",
       " 'enterpriseValue': 2223037218816,\n",
       " 'threeYearAverageReturn': None,\n",
       " 'lastSplitDate': 1598832000,\n",
       " 'lastSplitFactor': '4:1',\n",
       " 'legalType': None,\n",
       " 'lastDividendDate': 1604620800,\n",
       " 'morningStarOverallRating': None,\n",
       " 'earningsQuarterlyGrowth': -0.074,\n",
       " 'dateShortInterest': 1609372800,\n",
       " 'pegRatio': 2.49,\n",
       " 'lastCapGain': None,\n",
       " 'shortPercentOfFloat': 0.0054,\n",
       " 'sharesShortPriorMonth': 89985311,\n",
       " 'impliedSharesOutstanding': None,\n",
       " 'category': None,\n",
       " 'fiveYearAverageReturn': None,\n",
       " 'regularMarketPrice': 130.8,\n",
       " 'logo_url': 'https://logo.clearbit.com/apple.com'}"
      ]
     },
     "metadata": {},
     "execution_count": 5
    }
   ],
   "source": [
    "ticker_data.get_info()"
   ]
  },
  {
   "cell_type": "code",
   "execution_count": 6,
   "metadata": {},
   "outputs": [
    {
     "output_type": "execute_result",
     "data": {
      "text/plain": [
       "                                  Firm      To Grade From Grade Action\n",
       "Date                                                                  \n",
       "2012-02-09 08:17:00  Canaccord Genuity           Buy              main\n",
       "2012-03-08 07:33:00     FBN Securities    Outperform              main\n",
       "2012-03-13 06:08:00          Jefferies           Buy              main\n",
       "2012-03-14 06:13:00     Morgan Stanley    Overweight              main\n",
       "2012-03-14 08:21:00  Canaccord Genuity           Buy              main\n",
       "...                                ...           ...        ...    ...\n",
       "2020-12-15 16:48:59            Cascend           Buy              main\n",
       "2020-12-16 17:12:04     Morgan Stanley    Overweight              main\n",
       "2021-01-05 13:06:48      Credit Suisse       Neutral              main\n",
       "2021-01-05 15:31:40  Canaccord Genuity           Buy              main\n",
       "2021-01-14 17:55:58           Barclays  Equal-Weight              main\n",
       "\n",
       "[758 rows x 4 columns]"
      ],
      "text/html": "<div>\n<style scoped>\n    .dataframe tbody tr th:only-of-type {\n        vertical-align: middle;\n    }\n\n    .dataframe tbody tr th {\n        vertical-align: top;\n    }\n\n    .dataframe thead th {\n        text-align: right;\n    }\n</style>\n<table border=\"1\" class=\"dataframe\">\n  <thead>\n    <tr style=\"text-align: right;\">\n      <th></th>\n      <th>Firm</th>\n      <th>To Grade</th>\n      <th>From Grade</th>\n      <th>Action</th>\n    </tr>\n    <tr>\n      <th>Date</th>\n      <th></th>\n      <th></th>\n      <th></th>\n      <th></th>\n    </tr>\n  </thead>\n  <tbody>\n    <tr>\n      <th>2012-02-09 08:17:00</th>\n      <td>Canaccord Genuity</td>\n      <td>Buy</td>\n      <td></td>\n      <td>main</td>\n    </tr>\n    <tr>\n      <th>2012-03-08 07:33:00</th>\n      <td>FBN Securities</td>\n      <td>Outperform</td>\n      <td></td>\n      <td>main</td>\n    </tr>\n    <tr>\n      <th>2012-03-13 06:08:00</th>\n      <td>Jefferies</td>\n      <td>Buy</td>\n      <td></td>\n      <td>main</td>\n    </tr>\n    <tr>\n      <th>2012-03-14 06:13:00</th>\n      <td>Morgan Stanley</td>\n      <td>Overweight</td>\n      <td></td>\n      <td>main</td>\n    </tr>\n    <tr>\n      <th>2012-03-14 08:21:00</th>\n      <td>Canaccord Genuity</td>\n      <td>Buy</td>\n      <td></td>\n      <td>main</td>\n    </tr>\n    <tr>\n      <th>...</th>\n      <td>...</td>\n      <td>...</td>\n      <td>...</td>\n      <td>...</td>\n    </tr>\n    <tr>\n      <th>2020-12-15 16:48:59</th>\n      <td>Cascend</td>\n      <td>Buy</td>\n      <td></td>\n      <td>main</td>\n    </tr>\n    <tr>\n      <th>2020-12-16 17:12:04</th>\n      <td>Morgan Stanley</td>\n      <td>Overweight</td>\n      <td></td>\n      <td>main</td>\n    </tr>\n    <tr>\n      <th>2021-01-05 13:06:48</th>\n      <td>Credit Suisse</td>\n      <td>Neutral</td>\n      <td></td>\n      <td>main</td>\n    </tr>\n    <tr>\n      <th>2021-01-05 15:31:40</th>\n      <td>Canaccord Genuity</td>\n      <td>Buy</td>\n      <td></td>\n      <td>main</td>\n    </tr>\n    <tr>\n      <th>2021-01-14 17:55:58</th>\n      <td>Barclays</td>\n      <td>Equal-Weight</td>\n      <td></td>\n      <td>main</td>\n    </tr>\n  </tbody>\n</table>\n<p>758 rows × 4 columns</p>\n</div>"
     },
     "metadata": {},
     "execution_count": 6
    }
   ],
   "source": [
    "ticker_data.get_recommendations()"
   ]
  }
 ]
}