{
 "metadata": {
  "language_info": {
   "codemirror_mode": {
    "name": "ipython",
    "version": 3
   },
   "file_extension": ".py",
   "mimetype": "text/x-python",
   "name": "python",
   "nbconvert_exporter": "python",
   "pygments_lexer": "ipython3",
   "version": "3.7.6-final"
  },
  "orig_nbformat": 2,
  "kernelspec": {
   "name": "python3",
   "display_name": "Python 3",
   "language": "python"
  }
 },
 "nbformat": 4,
 "nbformat_minor": 2,
 "cells": [
  {
   "cell_type": "code",
   "execution_count": 10,
   "metadata": {},
   "outputs": [],
   "source": [
    "import yfinance as yf\n",
    "import streamlit as st\n",
    "import pandas as pd \n",
    "import numpy as np \n",
    "from datetime import datetime\n",
    "from PIL import Image\n",
    "import requests"
   ]
  },
  {
   "cell_type": "code",
   "execution_count": 15,
   "metadata": {},
   "outputs": [],
   "source": [
    "ticker_data = yf.Ticker('GOOGL')"
   ]
  },
  {
   "cell_type": "code",
   "execution_count": 16,
   "metadata": {},
   "outputs": [
    {
     "output_type": "execute_result",
     "data": {
      "text/plain": [
       "{'zip': '94043',\n",
       " 'sector': 'Communication Services',\n",
       " 'fullTimeEmployees': 132121,\n",
       " 'longBusinessSummary': 'Alphabet Inc. provides online advertising services in the United States, Europe, the Middle East, Africa, the Asia-Pacific, Canada, and Latin America. It offers performance and brand advertising services. The company operates through Google and Other Bets segments. The Google segment offers products, such as Ads, Android, Chrome, Google Cloud, Google Maps, Google Play, Hardware, Search, and YouTube, as well as technical infrastructure. It also offers digital content, cloud services, hardware devices, and other miscellaneous products and services. The Other Bets segment includes businesses, including Access, Calico, CapitalG, GV, Verily, Waymo, and X, as well as Internet and television services. The company has an agreement with Sabre Corporation to develop an artificial intelligence-driven technology platform for travel. Alphabet Inc. was founded in 1998 and is headquartered in Mountain View, California.',\n",
       " 'city': 'Mountain View',\n",
       " 'phone': '650-253-0000',\n",
       " 'state': 'CA',\n",
       " 'country': 'United States',\n",
       " 'companyOfficers': [],\n",
       " 'website': 'http://www.abc.xyz',\n",
       " 'maxAge': 1,\n",
       " 'address1': '1600 Amphitheatre Parkway',\n",
       " 'industry': 'Internet Content & Information',\n",
       " 'previousClose': 1747.25,\n",
       " 'regularMarketOpen': 1748.87,\n",
       " 'twoHundredDayAverage': 1609.7266,\n",
       " 'trailingAnnualDividendYield': None,\n",
       " 'payoutRatio': 0,\n",
       " 'volume24Hr': None,\n",
       " 'regularMarketDayHigh': 1767,\n",
       " 'navPrice': None,\n",
       " 'averageDailyVolume10Day': 1633362,\n",
       " 'totalAssets': None,\n",
       " 'regularMarketPreviousClose': 1747.25,\n",
       " 'fiftyDayAverage': 1762.5509,\n",
       " 'trailingAnnualDividendRate': None,\n",
       " 'open': 1748.87,\n",
       " 'toCurrency': None,\n",
       " 'averageVolume10days': 1633362,\n",
       " 'expireDate': None,\n",
       " 'yield': None,\n",
       " 'algorithm': None,\n",
       " 'dividendRate': None,\n",
       " 'exDividendDate': None,\n",
       " 'beta': 0.9947469999999999,\n",
       " 'circulatingSupply': None,\n",
       " 'startDate': None,\n",
       " 'regularMarketDayLow': 1726.07,\n",
       " 'priceHint': 2,\n",
       " 'currency': 'USD',\n",
       " 'trailingPE': 33.446438,\n",
       " 'regularMarketVolume': 1460617,\n",
       " 'lastMarket': None,\n",
       " 'maxSupply': None,\n",
       " 'openInterest': None,\n",
       " 'marketCap': 1173894332416,\n",
       " 'volumeAllCurrencies': None,\n",
       " 'strikePrice': None,\n",
       " 'averageVolume': 1634598,\n",
       " 'priceToSalesTrailing12Months': 6.836733,\n",
       " 'dayLow': 1726.07,\n",
       " 'ask': 1734,\n",
       " 'ytdReturn': None,\n",
       " 'askSize': 800,\n",
       " 'volume': 1460617,\n",
       " 'fiftyTwoWeekHigh': 1843.83,\n",
       " 'forwardPE': 28.209257,\n",
       " 'fromCurrency': None,\n",
       " 'fiveYearAvgDividendYield': None,\n",
       " 'fiftyTwoWeekLow': 1008.87,\n",
       " 'bid': 1720.4,\n",
       " 'tradeable': False,\n",
       " 'dividendYield': None,\n",
       " 'bidSize': 1100,\n",
       " 'dayHigh': 1767,\n",
       " 'exchange': 'NMS',\n",
       " 'shortName': 'Alphabet Inc.',\n",
       " 'longName': 'Alphabet Inc.',\n",
       " 'exchangeTimezoneName': 'America/New_York',\n",
       " 'exchangeTimezoneShortName': 'EST',\n",
       " 'isEsgPopulated': False,\n",
       " 'gmtOffSetMilliseconds': '-18000000',\n",
       " 'quoteType': 'EQUITY',\n",
       " 'symbol': 'GOOGL',\n",
       " 'messageBoardId': 'finmb_29096',\n",
       " 'market': 'us_market',\n",
       " 'annualHoldingsTurnover': None,\n",
       " 'enterpriseToRevenue': 6.207,\n",
       " 'beta3Year': None,\n",
       " 'profitMargins': 0.20798999,\n",
       " 'enterpriseToEbitda': 22.169,\n",
       " '52WeekChange': 0.16991997,\n",
       " 'morningStarRiskRating': None,\n",
       " 'forwardEps': 61.36,\n",
       " 'revenueQuarterlyGrowth': None,\n",
       " 'sharesOutstanding': 300644000,\n",
       " 'fundInceptionDate': None,\n",
       " 'annualReportExpenseRatio': None,\n",
       " 'bookValue': 314.169,\n",
       " 'sharesShort': 2512968,\n",
       " 'sharesPercentSharesOut': 0.0037,\n",
       " 'fundFamily': None,\n",
       " 'lastFiscalYearEnd': 1577750400,\n",
       " 'heldPercentInstitutions': 0.8024600000000001,\n",
       " 'netIncomeToCommon': 35712999424,\n",
       " 'trailingEps': 51.752,\n",
       " 'lastDividendValue': None,\n",
       " 'SandP52WeekChange': 0.1399318,\n",
       " 'priceToBook': 5.5095186,\n",
       " 'heldPercentInsiders': 0.0012200000000000002,\n",
       " 'nextFiscalYearEnd': 1640908800,\n",
       " 'mostRecentQuarter': 1601424000,\n",
       " 'shortRatio': 1.8,\n",
       " 'sharesShortPreviousMonthDate': 1606694400,\n",
       " 'floatShares': 609514185,\n",
       " 'enterpriseValue': 1065785753600,\n",
       " 'threeYearAverageReturn': None,\n",
       " 'lastSplitDate': 1396483200,\n",
       " 'lastSplitFactor': '1998:1000',\n",
       " 'legalType': None,\n",
       " 'lastDividendDate': None,\n",
       " 'morningStarOverallRating': None,\n",
       " 'earningsQuarterlyGrowth': 0.591,\n",
       " 'dateShortInterest': 1609372800,\n",
       " 'pegRatio': 1.99,\n",
       " 'lastCapGain': None,\n",
       " 'shortPercentOfFloat': 0.008400000000000001,\n",
       " 'sharesShortPriorMonth': 2599867,\n",
       " 'impliedSharesOutstanding': 676425984,\n",
       " 'category': None,\n",
       " 'fiveYearAverageReturn': None,\n",
       " 'regularMarketPrice': 1748.87,\n",
       " 'logo_url': 'https://logo.clearbit.com/abc.xyz'}"
      ]
     },
     "metadata": {},
     "execution_count": 16
    }
   ],
   "source": [
    "ticker_data.get_info()"
   ]
  },
  {
   "cell_type": "code",
   "execution_count": 17,
   "metadata": {},
   "outputs": [],
   "source": [
    "Info = ticker_data.get_info()"
   ]
  },
  {
   "cell_type": "code",
   "execution_count": 18,
   "metadata": {},
   "outputs": [],
   "source": [
    "# im = Image.open('https://logo.clearbit.com/apple.com')\n",
    "# url = 'https://logo.clearbit.com/apple.com'\n",
    "image_url = Info['logo_url']\n",
    "im = Image.open(requests.get(image_url, stream=True).raw)\n",
    "\n",
    "im.show()"
   ]
  },
  {
   "cell_type": "code",
   "execution_count": null,
   "metadata": {},
   "outputs": [],
   "source": []
  },
  {
   "cell_type": "code",
   "execution_count": null,
   "metadata": {},
   "outputs": [],
   "source": []
  },
  {
   "cell_type": "code",
   "execution_count": null,
   "metadata": {},
   "outputs": [],
   "source": []
  },
  {
   "cell_type": "code",
   "execution_count": null,
   "metadata": {},
   "outputs": [],
   "source": []
  },
  {
   "cell_type": "code",
   "execution_count": null,
   "metadata": {},
   "outputs": [],
   "source": []
  },
  {
   "cell_type": "code",
   "execution_count": 6,
   "metadata": {},
   "outputs": [
    {
     "output_type": "execute_result",
     "data": {
      "text/plain": [
       "                                  Firm      To Grade From Grade Action\n",
       "Date                                                                  \n",
       "2012-02-09 08:17:00  Canaccord Genuity           Buy              main\n",
       "2012-03-08 07:33:00     FBN Securities    Outperform              main\n",
       "2012-03-13 06:08:00          Jefferies           Buy              main\n",
       "2012-03-14 06:13:00     Morgan Stanley    Overweight              main\n",
       "2012-03-14 08:21:00  Canaccord Genuity           Buy              main\n",
       "...                                ...           ...        ...    ...\n",
       "2020-12-15 16:48:59            Cascend           Buy              main\n",
       "2020-12-16 17:12:04     Morgan Stanley    Overweight              main\n",
       "2021-01-05 13:06:48      Credit Suisse       Neutral              main\n",
       "2021-01-05 15:31:40  Canaccord Genuity           Buy              main\n",
       "2021-01-14 17:55:58           Barclays  Equal-Weight              main\n",
       "\n",
       "[758 rows x 4 columns]"
      ],
      "text/html": "<div>\n<style scoped>\n    .dataframe tbody tr th:only-of-type {\n        vertical-align: middle;\n    }\n\n    .dataframe tbody tr th {\n        vertical-align: top;\n    }\n\n    .dataframe thead th {\n        text-align: right;\n    }\n</style>\n<table border=\"1\" class=\"dataframe\">\n  <thead>\n    <tr style=\"text-align: right;\">\n      <th></th>\n      <th>Firm</th>\n      <th>To Grade</th>\n      <th>From Grade</th>\n      <th>Action</th>\n    </tr>\n    <tr>\n      <th>Date</th>\n      <th></th>\n      <th></th>\n      <th></th>\n      <th></th>\n    </tr>\n  </thead>\n  <tbody>\n    <tr>\n      <th>2012-02-09 08:17:00</th>\n      <td>Canaccord Genuity</td>\n      <td>Buy</td>\n      <td></td>\n      <td>main</td>\n    </tr>\n    <tr>\n      <th>2012-03-08 07:33:00</th>\n      <td>FBN Securities</td>\n      <td>Outperform</td>\n      <td></td>\n      <td>main</td>\n    </tr>\n    <tr>\n      <th>2012-03-13 06:08:00</th>\n      <td>Jefferies</td>\n      <td>Buy</td>\n      <td></td>\n      <td>main</td>\n    </tr>\n    <tr>\n      <th>2012-03-14 06:13:00</th>\n      <td>Morgan Stanley</td>\n      <td>Overweight</td>\n      <td></td>\n      <td>main</td>\n    </tr>\n    <tr>\n      <th>2012-03-14 08:21:00</th>\n      <td>Canaccord Genuity</td>\n      <td>Buy</td>\n      <td></td>\n      <td>main</td>\n    </tr>\n    <tr>\n      <th>...</th>\n      <td>...</td>\n      <td>...</td>\n      <td>...</td>\n      <td>...</td>\n    </tr>\n    <tr>\n      <th>2020-12-15 16:48:59</th>\n      <td>Cascend</td>\n      <td>Buy</td>\n      <td></td>\n      <td>main</td>\n    </tr>\n    <tr>\n      <th>2020-12-16 17:12:04</th>\n      <td>Morgan Stanley</td>\n      <td>Overweight</td>\n      <td></td>\n      <td>main</td>\n    </tr>\n    <tr>\n      <th>2021-01-05 13:06:48</th>\n      <td>Credit Suisse</td>\n      <td>Neutral</td>\n      <td></td>\n      <td>main</td>\n    </tr>\n    <tr>\n      <th>2021-01-05 15:31:40</th>\n      <td>Canaccord Genuity</td>\n      <td>Buy</td>\n      <td></td>\n      <td>main</td>\n    </tr>\n    <tr>\n      <th>2021-01-14 17:55:58</th>\n      <td>Barclays</td>\n      <td>Equal-Weight</td>\n      <td></td>\n      <td>main</td>\n    </tr>\n  </tbody>\n</table>\n<p>758 rows × 4 columns</p>\n</div>"
     },
     "metadata": {},
     "execution_count": 6
    }
   ],
   "source": [
    "ticker_data.get_recommendations()"
   ]
  },
  {
   "cell_type": "code",
   "execution_count": null,
   "metadata": {},
   "outputs": [],
   "source": []
  },
  {
   "cell_type": "code",
   "execution_count": null,
   "metadata": {},
   "outputs": [],
   "source": []
  },
  {
   "cell_type": "code",
   "execution_count": null,
   "metadata": {},
   "outputs": [],
   "source": []
  }
 ]
}